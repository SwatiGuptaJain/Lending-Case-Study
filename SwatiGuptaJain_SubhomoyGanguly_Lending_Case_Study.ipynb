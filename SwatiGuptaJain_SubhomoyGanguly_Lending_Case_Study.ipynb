{
 "cells": [
  {
   "cell_type": "markdown",
   "id": "e8823cde",
   "metadata": {},
   "source": [
    "## Importing Necessary Library"
   ]
  },
  {
   "cell_type": "code",
   "execution_count": 1,
   "id": "03f9aa8f",
   "metadata": {},
   "outputs": [],
   "source": [
    "# Numerical and Data Analysis\n",
    "import numpy as np\n",
    "import pandas as pd\n",
    "\n",
    "# Data Visualization\n",
    "import seaborn as sns\n",
    "import matplotlib.pyplot as plt\n",
    "\n",
    "# Extra\n",
    "import warnings\n",
    "warnings.filterwarnings('ignore')"
   ]
  },
  {
   "cell_type": "markdown",
   "id": "90628a1b",
   "metadata": {},
   "source": [
    "## Data Loading"
   ]
  },
  {
   "cell_type": "code",
   "execution_count": 2,
   "id": "158cdb81",
   "metadata": {},
   "outputs": [],
   "source": [
    "df=pd.read_csv('loan.csv')"
   ]
  },
  {
   "cell_type": "code",
   "execution_count": 3,
   "id": "886de362",
   "metadata": {},
   "outputs": [
    {
     "data": {
      "text/html": [
       "<div>\n",
       "<style scoped>\n",
       "    .dataframe tbody tr th:only-of-type {\n",
       "        vertical-align: middle;\n",
       "    }\n",
       "\n",
       "    .dataframe tbody tr th {\n",
       "        vertical-align: top;\n",
       "    }\n",
       "\n",
       "    .dataframe thead th {\n",
       "        text-align: right;\n",
       "    }\n",
       "</style>\n",
       "<table border=\"1\" class=\"dataframe\">\n",
       "  <thead>\n",
       "    <tr style=\"text-align: right;\">\n",
       "      <th></th>\n",
       "      <th>id</th>\n",
       "      <th>member_id</th>\n",
       "      <th>loan_amnt</th>\n",
       "      <th>funded_amnt</th>\n",
       "      <th>funded_amnt_inv</th>\n",
       "      <th>term</th>\n",
       "      <th>int_rate</th>\n",
       "      <th>installment</th>\n",
       "      <th>grade</th>\n",
       "      <th>sub_grade</th>\n",
       "      <th>...</th>\n",
       "      <th>num_tl_90g_dpd_24m</th>\n",
       "      <th>num_tl_op_past_12m</th>\n",
       "      <th>pct_tl_nvr_dlq</th>\n",
       "      <th>percent_bc_gt_75</th>\n",
       "      <th>pub_rec_bankruptcies</th>\n",
       "      <th>tax_liens</th>\n",
       "      <th>tot_hi_cred_lim</th>\n",
       "      <th>total_bal_ex_mort</th>\n",
       "      <th>total_bc_limit</th>\n",
       "      <th>total_il_high_credit_limit</th>\n",
       "    </tr>\n",
       "  </thead>\n",
       "  <tbody>\n",
       "    <tr>\n",
       "      <th>0</th>\n",
       "      <td>1077501</td>\n",
       "      <td>1296599</td>\n",
       "      <td>5000</td>\n",
       "      <td>5000</td>\n",
       "      <td>4975.0</td>\n",
       "      <td>36 months</td>\n",
       "      <td>10.65%</td>\n",
       "      <td>162.87</td>\n",
       "      <td>B</td>\n",
       "      <td>B2</td>\n",
       "      <td>...</td>\n",
       "      <td>NaN</td>\n",
       "      <td>NaN</td>\n",
       "      <td>NaN</td>\n",
       "      <td>NaN</td>\n",
       "      <td>0.0</td>\n",
       "      <td>0.0</td>\n",
       "      <td>NaN</td>\n",
       "      <td>NaN</td>\n",
       "      <td>NaN</td>\n",
       "      <td>NaN</td>\n",
       "    </tr>\n",
       "    <tr>\n",
       "      <th>1</th>\n",
       "      <td>1077430</td>\n",
       "      <td>1314167</td>\n",
       "      <td>2500</td>\n",
       "      <td>2500</td>\n",
       "      <td>2500.0</td>\n",
       "      <td>60 months</td>\n",
       "      <td>15.27%</td>\n",
       "      <td>59.83</td>\n",
       "      <td>C</td>\n",
       "      <td>C4</td>\n",
       "      <td>...</td>\n",
       "      <td>NaN</td>\n",
       "      <td>NaN</td>\n",
       "      <td>NaN</td>\n",
       "      <td>NaN</td>\n",
       "      <td>0.0</td>\n",
       "      <td>0.0</td>\n",
       "      <td>NaN</td>\n",
       "      <td>NaN</td>\n",
       "      <td>NaN</td>\n",
       "      <td>NaN</td>\n",
       "    </tr>\n",
       "    <tr>\n",
       "      <th>2</th>\n",
       "      <td>1077175</td>\n",
       "      <td>1313524</td>\n",
       "      <td>2400</td>\n",
       "      <td>2400</td>\n",
       "      <td>2400.0</td>\n",
       "      <td>36 months</td>\n",
       "      <td>15.96%</td>\n",
       "      <td>84.33</td>\n",
       "      <td>C</td>\n",
       "      <td>C5</td>\n",
       "      <td>...</td>\n",
       "      <td>NaN</td>\n",
       "      <td>NaN</td>\n",
       "      <td>NaN</td>\n",
       "      <td>NaN</td>\n",
       "      <td>0.0</td>\n",
       "      <td>0.0</td>\n",
       "      <td>NaN</td>\n",
       "      <td>NaN</td>\n",
       "      <td>NaN</td>\n",
       "      <td>NaN</td>\n",
       "    </tr>\n",
       "    <tr>\n",
       "      <th>3</th>\n",
       "      <td>1076863</td>\n",
       "      <td>1277178</td>\n",
       "      <td>10000</td>\n",
       "      <td>10000</td>\n",
       "      <td>10000.0</td>\n",
       "      <td>36 months</td>\n",
       "      <td>13.49%</td>\n",
       "      <td>339.31</td>\n",
       "      <td>C</td>\n",
       "      <td>C1</td>\n",
       "      <td>...</td>\n",
       "      <td>NaN</td>\n",
       "      <td>NaN</td>\n",
       "      <td>NaN</td>\n",
       "      <td>NaN</td>\n",
       "      <td>0.0</td>\n",
       "      <td>0.0</td>\n",
       "      <td>NaN</td>\n",
       "      <td>NaN</td>\n",
       "      <td>NaN</td>\n",
       "      <td>NaN</td>\n",
       "    </tr>\n",
       "    <tr>\n",
       "      <th>4</th>\n",
       "      <td>1075358</td>\n",
       "      <td>1311748</td>\n",
       "      <td>3000</td>\n",
       "      <td>3000</td>\n",
       "      <td>3000.0</td>\n",
       "      <td>60 months</td>\n",
       "      <td>12.69%</td>\n",
       "      <td>67.79</td>\n",
       "      <td>B</td>\n",
       "      <td>B5</td>\n",
       "      <td>...</td>\n",
       "      <td>NaN</td>\n",
       "      <td>NaN</td>\n",
       "      <td>NaN</td>\n",
       "      <td>NaN</td>\n",
       "      <td>0.0</td>\n",
       "      <td>0.0</td>\n",
       "      <td>NaN</td>\n",
       "      <td>NaN</td>\n",
       "      <td>NaN</td>\n",
       "      <td>NaN</td>\n",
       "    </tr>\n",
       "  </tbody>\n",
       "</table>\n",
       "<p>5 rows × 111 columns</p>\n",
       "</div>"
      ],
      "text/plain": [
       "        id  member_id  loan_amnt  funded_amnt  funded_amnt_inv        term  \\\n",
       "0  1077501    1296599       5000         5000           4975.0   36 months   \n",
       "1  1077430    1314167       2500         2500           2500.0   60 months   \n",
       "2  1077175    1313524       2400         2400           2400.0   36 months   \n",
       "3  1076863    1277178      10000        10000          10000.0   36 months   \n",
       "4  1075358    1311748       3000         3000           3000.0   60 months   \n",
       "\n",
       "  int_rate  installment grade sub_grade  ... num_tl_90g_dpd_24m  \\\n",
       "0   10.65%       162.87     B        B2  ...                NaN   \n",
       "1   15.27%        59.83     C        C4  ...                NaN   \n",
       "2   15.96%        84.33     C        C5  ...                NaN   \n",
       "3   13.49%       339.31     C        C1  ...                NaN   \n",
       "4   12.69%        67.79     B        B5  ...                NaN   \n",
       "\n",
       "  num_tl_op_past_12m pct_tl_nvr_dlq  percent_bc_gt_75 pub_rec_bankruptcies  \\\n",
       "0                NaN            NaN               NaN                  0.0   \n",
       "1                NaN            NaN               NaN                  0.0   \n",
       "2                NaN            NaN               NaN                  0.0   \n",
       "3                NaN            NaN               NaN                  0.0   \n",
       "4                NaN            NaN               NaN                  0.0   \n",
       "\n",
       "  tax_liens tot_hi_cred_lim total_bal_ex_mort total_bc_limit  \\\n",
       "0       0.0             NaN               NaN            NaN   \n",
       "1       0.0             NaN               NaN            NaN   \n",
       "2       0.0             NaN               NaN            NaN   \n",
       "3       0.0             NaN               NaN            NaN   \n",
       "4       0.0             NaN               NaN            NaN   \n",
       "\n",
       "  total_il_high_credit_limit  \n",
       "0                        NaN  \n",
       "1                        NaN  \n",
       "2                        NaN  \n",
       "3                        NaN  \n",
       "4                        NaN  \n",
       "\n",
       "[5 rows x 111 columns]"
      ]
     },
     "execution_count": 3,
     "metadata": {},
     "output_type": "execute_result"
    }
   ],
   "source": [
    "df.head()"
   ]
  },
  {
   "cell_type": "code",
   "execution_count": 4,
   "id": "62cd9450",
   "metadata": {},
   "outputs": [
    {
     "name": "stdout",
     "output_type": "stream",
     "text": [
      "<class 'pandas.core.frame.DataFrame'>\n",
      "RangeIndex: 39717 entries, 0 to 39716\n",
      "Columns: 111 entries, id to total_il_high_credit_limit\n",
      "dtypes: float64(74), int64(13), object(24)\n",
      "memory usage: 33.6+ MB\n"
     ]
    }
   ],
   "source": [
    "df.info()"
   ]
  },
  {
   "cell_type": "code",
   "execution_count": 5,
   "id": "3f69803d",
   "metadata": {},
   "outputs": [
    {
     "data": {
      "text/plain": [
       "(39717, 111)"
      ]
     },
     "execution_count": 5,
     "metadata": {},
     "output_type": "execute_result"
    }
   ],
   "source": [
    "df.shape"
   ]
  },
  {
   "cell_type": "markdown",
   "id": "41cbc1e9",
   "metadata": {},
   "source": [
    "## Data Cleaning"
   ]
  },
  {
   "cell_type": "markdown",
   "id": "4632cab5",
   "metadata": {},
   "source": [
    "### Drop Empty Columns"
   ]
  },
  {
   "cell_type": "code",
   "execution_count": 6,
   "id": "8d690642",
   "metadata": {},
   "outputs": [
    {
     "data": {
      "text/plain": [
       "(39717, 57)"
      ]
     },
     "execution_count": 6,
     "metadata": {},
     "output_type": "execute_result"
    }
   ],
   "source": [
    "empty_columns = df.columns[df.isna().sum() == len(df)].to_list()\n",
    "df1 = df.drop(columns=empty_columns)\n",
    "df1.shape"
   ]
  },
  {
   "cell_type": "markdown",
   "id": "07ed9bac",
   "metadata": {},
   "source": [
    "### Drop Single Valued Column"
   ]
  },
  {
   "cell_type": "code",
   "execution_count": 7,
   "id": "16cddbb5",
   "metadata": {},
   "outputs": [
    {
     "data": {
      "text/plain": [
       "(39717, 48)"
      ]
     },
     "execution_count": 7,
     "metadata": {},
     "output_type": "execute_result"
    }
   ],
   "source": [
    "col1 = df1.columns[df1.nunique()==1].to_list()\n",
    "df2= df1.drop(columns=col1)\n",
    "df2.shape"
   ]
  },
  {
   "cell_type": "markdown",
   "id": "f7a496e7",
   "metadata": {},
   "source": [
    "### Drop columns having more than 60% of missing values"
   ]
  },
  {
   "cell_type": "code",
   "execution_count": 8,
   "id": "10d6cff0",
   "metadata": {},
   "outputs": [
    {
     "data": {
      "text/plain": [
       "(39717, 45)"
      ]
     },
     "execution_count": 8,
     "metadata": {},
     "output_type": "execute_result"
    }
   ],
   "source": [
    "check = df2.isnull().mean() * 100\n",
    "cols = check[check > 60].index\n",
    "df3=df2.drop(list(cols),axis=1)\n",
    "df3.shape"
   ]
  },
  {
   "cell_type": "markdown",
   "id": "bfb02ff0",
   "metadata": {},
   "source": [
    "#### There are some unnecessary columns which  donot help in analysis - id,member_id, emp_title, url, desc, title,zip_code,addr_state"
   ]
  },
  {
   "cell_type": "code",
   "execution_count": 9,
   "id": "4530e748",
   "metadata": {},
   "outputs": [
    {
     "data": {
      "text/plain": [
       "(39717, 32)"
      ]
     },
     "execution_count": 9,
     "metadata": {},
     "output_type": "execute_result"
    }
   ],
   "source": [
    "cols = ['id','member_id', 'emp_title', 'url', 'desc', 'title','zip_code','addr_state','pub_rec_bankruptcies',\n",
    "        'last_pymnt_d','last_pymnt_amnt',\"last_credit_pull_d\",\"out_prncp_inv\"]\n",
    "df4=df3.drop(list(cols),axis=1)\n",
    "df4.shape"
   ]
  },
  {
   "cell_type": "code",
   "execution_count": 10,
   "id": "cb7cb802",
   "metadata": {},
   "outputs": [
    {
     "data": {
      "text/plain": [
       "loan_amnt                  0.000000\n",
       "funded_amnt                0.000000\n",
       "funded_amnt_inv            0.000000\n",
       "term                       0.000000\n",
       "int_rate                   0.000000\n",
       "installment                0.000000\n",
       "grade                      0.000000\n",
       "sub_grade                  0.000000\n",
       "emp_length                 2.706650\n",
       "home_ownership             0.000000\n",
       "annual_inc                 0.000000\n",
       "verification_status        0.000000\n",
       "issue_d                    0.000000\n",
       "loan_status                0.000000\n",
       "purpose                    0.000000\n",
       "dti                        0.000000\n",
       "delinq_2yrs                0.000000\n",
       "earliest_cr_line           0.000000\n",
       "inq_last_6mths             0.000000\n",
       "open_acc                   0.000000\n",
       "pub_rec                    0.000000\n",
       "revol_bal                  0.000000\n",
       "revol_util                 0.125891\n",
       "total_acc                  0.000000\n",
       "out_prncp                  0.000000\n",
       "total_pymnt                0.000000\n",
       "total_pymnt_inv            0.000000\n",
       "total_rec_prncp            0.000000\n",
       "total_rec_int              0.000000\n",
       "total_rec_late_fee         0.000000\n",
       "recoveries                 0.000000\n",
       "collection_recovery_fee    0.000000\n",
       "dtype: float64"
      ]
     },
     "execution_count": 10,
     "metadata": {},
     "output_type": "execute_result"
    }
   ],
   "source": [
    "df4.isnull().mean() * 100"
   ]
  },
  {
   "cell_type": "markdown",
   "id": "d8f4bedd",
   "metadata": {},
   "source": [
    "## Update Missing Value \n",
    "#### There are 2 columns with missing value emp_length,revol_util"
   ]
  },
  {
   "cell_type": "code",
   "execution_count": 11,
   "id": "a7a6fa9b",
   "metadata": {},
   "outputs": [
    {
     "name": "stdout",
     "output_type": "stream",
     "text": [
      "Mode: 10+ years\n"
     ]
    }
   ],
   "source": [
    "mod=df4['emp_length'].mode()[0]\n",
    "print('Mode:',mod)"
   ]
  },
  {
   "cell_type": "markdown",
   "id": "46d0a9e9",
   "metadata": {},
   "source": [
    "#### we are replacing missing values with mode value"
   ]
  },
  {
   "cell_type": "code",
   "execution_count": 12,
   "id": "dba0d729",
   "metadata": {},
   "outputs": [],
   "source": [
    "df4[\"emp_length\"]=df4[\"emp_length\"].fillna(mod) "
   ]
  },
  {
   "cell_type": "markdown",
   "id": "7db98ffd",
   "metadata": {},
   "source": [
    "#### \"revol_util\" column although described as an object column, it has continous values and number of missing values are very less, so we are dropping columns having missing values"
   ]
  },
  {
   "cell_type": "code",
   "execution_count": 13,
   "id": "0fa62b86",
   "metadata": {},
   "outputs": [
    {
     "data": {
      "text/plain": [
       "(39717, 32)"
      ]
     },
     "execution_count": 13,
     "metadata": {},
     "output_type": "execute_result"
    }
   ],
   "source": [
    "df4.shape\n"
   ]
  },
  {
   "cell_type": "code",
   "execution_count": 14,
   "id": "25348eda",
   "metadata": {},
   "outputs": [
    {
     "data": {
      "text/plain": [
       "(39667, 32)"
      ]
     },
     "execution_count": 14,
     "metadata": {},
     "output_type": "execute_result"
    }
   ],
   "source": [
    "df4.dropna(axis = 0, subset = ['revol_util'] , inplace = True)\n",
    "df4.revol_util.isna().sum()\n",
    "df4.shape"
   ]
  },
  {
   "cell_type": "code",
   "execution_count": 15,
   "id": "a609bcda",
   "metadata": {},
   "outputs": [
    {
     "data": {
      "text/plain": [
       "loan_amnt                  0.0\n",
       "funded_amnt                0.0\n",
       "funded_amnt_inv            0.0\n",
       "term                       0.0\n",
       "int_rate                   0.0\n",
       "installment                0.0\n",
       "grade                      0.0\n",
       "sub_grade                  0.0\n",
       "emp_length                 0.0\n",
       "home_ownership             0.0\n",
       "annual_inc                 0.0\n",
       "verification_status        0.0\n",
       "issue_d                    0.0\n",
       "loan_status                0.0\n",
       "purpose                    0.0\n",
       "dti                        0.0\n",
       "delinq_2yrs                0.0\n",
       "earliest_cr_line           0.0\n",
       "inq_last_6mths             0.0\n",
       "open_acc                   0.0\n",
       "pub_rec                    0.0\n",
       "revol_bal                  0.0\n",
       "revol_util                 0.0\n",
       "total_acc                  0.0\n",
       "out_prncp                  0.0\n",
       "total_pymnt                0.0\n",
       "total_pymnt_inv            0.0\n",
       "total_rec_prncp            0.0\n",
       "total_rec_int              0.0\n",
       "total_rec_late_fee         0.0\n",
       "recoveries                 0.0\n",
       "collection_recovery_fee    0.0\n",
       "dtype: float64"
      ]
     },
     "execution_count": 15,
     "metadata": {},
     "output_type": "execute_result"
    }
   ],
   "source": [
    "df4.isnull().mean() * 100"
   ]
  },
  {
   "cell_type": "markdown",
   "id": "fa5e5d13",
   "metadata": {},
   "source": [
    "### Standardizing the data"
   ]
  },
  {
   "cell_type": "code",
   "execution_count": 16,
   "id": "6fa919d8",
   "metadata": {},
   "outputs": [
    {
     "data": {
      "text/plain": [
       "loan_amnt                    int64\n",
       "funded_amnt                  int64\n",
       "funded_amnt_inv            float64\n",
       "term                        object\n",
       "int_rate                    object\n",
       "installment                float64\n",
       "grade                       object\n",
       "sub_grade                   object\n",
       "emp_length                  object\n",
       "home_ownership              object\n",
       "annual_inc                 float64\n",
       "verification_status         object\n",
       "issue_d                     object\n",
       "loan_status                 object\n",
       "purpose                     object\n",
       "dti                        float64\n",
       "delinq_2yrs                  int64\n",
       "earliest_cr_line            object\n",
       "inq_last_6mths               int64\n",
       "open_acc                     int64\n",
       "pub_rec                      int64\n",
       "revol_bal                    int64\n",
       "revol_util                  object\n",
       "total_acc                    int64\n",
       "out_prncp                  float64\n",
       "total_pymnt                float64\n",
       "total_pymnt_inv            float64\n",
       "total_rec_prncp            float64\n",
       "total_rec_int              float64\n",
       "total_rec_late_fee         float64\n",
       "recoveries                 float64\n",
       "collection_recovery_fee    float64\n",
       "dtype: object"
      ]
     },
     "execution_count": 16,
     "metadata": {},
     "output_type": "execute_result"
    }
   ],
   "source": [
    "df4.dtypes"
   ]
  },
  {
   "cell_type": "markdown",
   "id": "7e028f32",
   "metadata": {},
   "source": [
    "#### Convert columns having percentages as interests data type from object to floating type"
   ]
  },
  {
   "cell_type": "code",
   "execution_count": 17,
   "id": "4dbfa029",
   "metadata": {},
   "outputs": [
    {
     "name": "stdout",
     "output_type": "stream",
     "text": [
      "  int_rate revol_util\n",
      "0   10.65%     83.70%\n",
      "1   15.27%      9.40%\n",
      "2   15.96%     98.50%\n",
      "3   13.49%        21%\n",
      "4   12.69%     53.90%\n"
     ]
    }
   ],
   "source": [
    "print(df4[['int_rate', 'revol_util']].head())\n"
   ]
  },
  {
   "cell_type": "code",
   "execution_count": 18,
   "id": "813b5fcc",
   "metadata": {},
   "outputs": [],
   "source": [
    "df4['int_rate'] = df4['int_rate'].str.replace('%', '').astype(float)\n",
    "df4['revol_util'] = df4['revol_util'].str.replace('%', '').astype(float)"
   ]
  },
  {
   "cell_type": "code",
   "execution_count": 19,
   "id": "362ffae8",
   "metadata": {},
   "outputs": [
    {
     "name": "stdout",
     "output_type": "stream",
     "text": [
      "   int_rate  revol_util\n",
      "0     10.65        83.7\n",
      "1     15.27         9.4\n",
      "2     15.96        98.5\n",
      "3     13.49        21.0\n",
      "4     12.69        53.9\n"
     ]
    }
   ],
   "source": [
    "print(df4[['int_rate', 'revol_util']].head())"
   ]
  },
  {
   "cell_type": "markdown",
   "id": "b9a1989a",
   "metadata": {},
   "source": [
    "### \"emp_length\" --> { (< 1 year) is assumed as 0 and 10+ years is assumed as 10 }, so we are changing the vlaues accordingly"
   ]
  },
  {
   "cell_type": "code",
   "execution_count": 20,
   "id": "d76eb711",
   "metadata": {},
   "outputs": [
    {
     "name": "stdout",
     "output_type": "stream",
     "text": [
      "0        10\n",
      "1         0\n",
      "2        10\n",
      "3        10\n",
      "4         1\n",
      "         ..\n",
      "39712     4\n",
      "39713     3\n",
      "39714     0\n",
      "39715     0\n",
      "39716     0\n",
      "Name: emp_length, Length: 39667, dtype: int32\n"
     ]
    }
   ],
   "source": [
    "df4['emp_length'] =df4['emp_length'].apply(lambda x: 0 if \"<\" in x else (x.split('+')[0] if \"+\" in x else x.split()[0])).astype(int)\n",
    "print(df4['emp_length'])"
   ]
  },
  {
   "cell_type": "code",
   "execution_count": 21,
   "id": "31c62835",
   "metadata": {},
   "outputs": [
    {
     "data": {
      "text/plain": [
       "loan_amnt                    int64\n",
       "funded_amnt                  int64\n",
       "funded_amnt_inv            float64\n",
       "term                        object\n",
       "int_rate                   float64\n",
       "installment                float64\n",
       "grade                       object\n",
       "sub_grade                   object\n",
       "emp_length                   int32\n",
       "home_ownership              object\n",
       "annual_inc                 float64\n",
       "verification_status         object\n",
       "issue_d                     object\n",
       "loan_status                 object\n",
       "purpose                     object\n",
       "dti                        float64\n",
       "delinq_2yrs                  int64\n",
       "earliest_cr_line            object\n",
       "inq_last_6mths               int64\n",
       "open_acc                     int64\n",
       "pub_rec                      int64\n",
       "revol_bal                    int64\n",
       "revol_util                 float64\n",
       "total_acc                    int64\n",
       "out_prncp                  float64\n",
       "total_pymnt                float64\n",
       "total_pymnt_inv            float64\n",
       "total_rec_prncp            float64\n",
       "total_rec_int              float64\n",
       "total_rec_late_fee         float64\n",
       "recoveries                 float64\n",
       "collection_recovery_fee    float64\n",
       "dtype: object"
      ]
     },
     "execution_count": 21,
     "metadata": {},
     "output_type": "execute_result"
    }
   ],
   "source": [
    "df4.dtypes"
   ]
  },
  {
   "cell_type": "markdown",
   "id": "11182c06",
   "metadata": {},
   "source": [
    "### Converting issue_d and earliest_cr_line to datetime data type"
   ]
  },
  {
   "cell_type": "code",
   "execution_count": null,
   "id": "30795cce",
   "metadata": {},
   "outputs": [],
   "source": [
    "df4['issue_d'] = df4['issue_d'].apply(lambda x: pd.to_datetime(x, format='%b-%y'))\n",
    "df4['earliest_cr_line'] = df4['earliest_cr_line'].apply(lambda x: pd.to_datetime(x, format='%b-%y'))"
   ]
  },
  {
   "cell_type": "code",
   "execution_count": null,
   "id": "e04d4754",
   "metadata": {},
   "outputs": [],
   "source": [
    "df4.nunique()"
   ]
  },
  {
   "cell_type": "markdown",
   "id": "3e06957e",
   "metadata": {},
   "source": [
    "#### term, grade, sub_grade,verification_status, loan_status,purpose as cteagorical column so consider these as object type"
   ]
  },
  {
   "cell_type": "markdown",
   "id": "84d2eda8",
   "metadata": {},
   "source": [
    "## Dropping data which are not relevant\n"
   ]
  },
  {
   "cell_type": "code",
   "execution_count": null,
   "id": "3d23cd16",
   "metadata": {},
   "outputs": [],
   "source": [
    "print(df4['loan_status'].unique())"
   ]
  },
  {
   "cell_type": "markdown",
   "id": "3f546acb",
   "metadata": {},
   "source": [
    "## The purpose of the analysis is to see who is likely to default and this can only be said in case of either fully paid or charged off loans.\n",
    "### We cannot make anything up for the current loans.\n",
    "### To exclude that data , removing the records with current loan status"
   ]
  },
  {
   "cell_type": "code",
   "execution_count": null,
   "id": "389e2906",
   "metadata": {},
   "outputs": [],
   "source": [
    "final_data = df4[df4['loan_status'] != \"Current\"]\n",
    "final_data['loan_status'].unique()"
   ]
  },
  {
   "cell_type": "code",
   "execution_count": null,
   "id": "c624d1f0",
   "metadata": {},
   "outputs": [],
   "source": [
    "final_data.shape"
   ]
  },
  {
   "cell_type": "code",
   "execution_count": null,
   "id": "6e69968a",
   "metadata": {},
   "outputs": [],
   "source": [
    "final_data.nunique()"
   ]
  },
  {
   "cell_type": "markdown",
   "id": "c1e9a17d",
   "metadata": {},
   "source": [
    "### Handling Outliners\n",
    "##### We can analyze on 'loan_amnt', 'funded_amnt', 'funded_amnt_inv', 'installment', 'annual_inc','dti',, 'revol_bal', 'revol_util' columns as we found these important for analysis"
   ]
  },
  {
   "cell_type": "code",
   "execution_count": null,
   "id": "7c5e3dd3",
   "metadata": {},
   "outputs": [],
   "source": [
    "columns_to_plot = ['annual_inc','loan_amnt', 'funded_amnt', 'funded_amnt_inv', 'installment', 'dti', 'revol_bal', 'revol_util']\n",
    "\n",
    "for col_name in columns_to_plot:\n",
    "    plt.figure(figsize=(2, 2))\n",
    "    sns.boxplot(y=final_data[col_name])\n",
    "    plt.show()"
   ]
  },
  {
   "cell_type": "markdown",
   "id": "f6f0d4e4",
   "metadata": {},
   "source": [
    "### These plot clearly represents presence of some outliners so removing them. \n",
    "\n"
   ]
  },
  {
   "cell_type": "code",
   "execution_count": null,
   "id": "dc4c9de8",
   "metadata": {},
   "outputs": [],
   "source": [
    "quantile_info = final_data['annual_inc'].quantile([0.5, 0.75,0.90, 0.95, 0.97,0.98, 0.99])\n",
    "quantile_info"
   ]
  },
  {
   "cell_type": "code",
   "execution_count": null,
   "id": "0c004b9b",
   "metadata": {},
   "outputs": [],
   "source": [
    "quant_95_value= final_data['annual_inc'].quantile(0.95)\n",
    "final_data = final_data[final_data.annual_inc <= quant_95_value]\n",
    "final_data.shape"
   ]
  },
  {
   "cell_type": "markdown",
   "id": "3c0f2014",
   "metadata": {},
   "source": [
    "#### for annual_inc considering only till 95 percentile as values after this seems to be outliners."
   ]
  },
  {
   "cell_type": "code",
   "execution_count": null,
   "id": "260ce622",
   "metadata": {},
   "outputs": [],
   "source": [
    "plt.figure(figsize=(5, 4))\n",
    "sns.boxplot(x=final_data['annual_inc'])\n",
    "plt.show()"
   ]
  },
  {
   "cell_type": "code",
   "execution_count": null,
   "id": "70cea2b3",
   "metadata": {},
   "outputs": [],
   "source": [
    "quantile_info = final_data['loan_amnt'].quantile([0.5, 0.75,0.90, 0.95, 0.97,0.98, 0.99])\n",
    "quantile_info"
   ]
  },
  {
   "cell_type": "code",
   "execution_count": null,
   "id": "0316125c",
   "metadata": {},
   "outputs": [],
   "source": [
    "quantile_info = final_data['funded_amnt'].quantile([0.5, 0.75,0.90, 0.95, 0.97,0.98, 0.99])\n",
    "quantile_info"
   ]
  },
  {
   "cell_type": "markdown",
   "id": "84511566",
   "metadata": {},
   "source": [
    "## Arranging the fields in Categorical, Numerical and Date variables\n",
    "### Unordered Categorical Variables\n",
    "- term - 36 or 60 months\n",
    "- grade - LC assigned loan grade\n",
    "- sub_grade - it is sub-division of grade\n",
    "- home_ownership - home ownership status RENT, OWN, MORTGAGE, OTHER.\n",
    "- verification_status - Indicates if income was verified by LC, not verified, or if the income source was verified\n",
    "- loan_status\n",
    "- purpose\n",
    "\n",
    "### Ordered Categorical Variables\n",
    "- emp_length - Employment length in years\n",
    "- inq_last_6mths - The number of inquiries in past 6 months\n",
    "\n",
    "## Quantitative Variables\n",
    "- loan_amnt\n",
    "- funded_amnt\n",
    "- funded_amnt_inv - This is almost same as 'funded_amnt' field\n",
    "- int_rate\n",
    "- installment\n",
    "- annual_inc\n",
    "- dti \n",
    "- delinq_2yrs\n",
    "- pub_rec\n",
    "- total_rec_prncp- Principal received to date\n",
    "- revol_bal\n",
    "- revol_util \n",
    "- total_acc\n",
    "- open_acc\n",
    "\n",
    "## Date Variables\n",
    "- issue_d\n",
    "- earliest_cr_line"
   ]
  },
  {
   "cell_type": "markdown",
   "id": "3e34ea20",
   "metadata": {},
   "source": [
    "# Univariate Analysis"
   ]
  },
  {
   "cell_type": "code",
   "execution_count": null,
   "id": "d392c250",
   "metadata": {},
   "outputs": [],
   "source": [
    "# This function sums the total by the categorical variable we are analyzing\n",
    "def bycategory(x):\n",
    "    ax = sns.countplot(x=final_data[x], order = final_data[x].value_counts().index)\n",
    "    for i in ax.containers:\n",
    "        ax.bar_label(i,)\n",
    "    ax.tick_params(axis='x', rotation=90)\n",
    "    return ax"
   ]
  },
  {
   "cell_type": "code",
   "execution_count": null,
   "id": "ca459f26",
   "metadata": {},
   "outputs": [],
   "source": [
    "# This function plots percentages by loan status \n",
    "def byloanstatuspercent(x):\n",
    "    cross_tab_prop = pd.crosstab(index=final_data[x],\n",
    "                             columns=final_data['loan_status'],\n",
    "                             normalize=\"index\")\n",
    "    ax = cross_tab_prop.plot(kind='bar', \n",
    "                    stacked=True, \n",
    "                    colormap='tab10', \n",
    "                    figsize=(10, 5))\n",
    "\n",
    "    plt.legend( ncol=2)\n",
    "    plt.xlabel(x)\n",
    "    plt.ylabel(\"% of Total\")\n",
    "    plt.xticks(rotation=0)\n",
    "    \n",
    "    \n",
    "    \n",
    "    \n",
    "    for n, x in enumerate([*cross_tab_prop.index.values]):\n",
    "        for proportion in cross_tab_prop.loc[x]:\n",
    "            plt.text(x=n,\n",
    "                 y=proportion,\n",
    "                 s=f'{np.round(proportion * 100, 1)}%', \n",
    "                 color=\"black\",\n",
    "                 fontsize=12,\n",
    "                 fontweight=\"bold\")\n",
    "    \n",
    "    return ax\n",
    "                \n",
    "  "
   ]
  },
  {
   "cell_type": "markdown",
   "id": "02808248",
   "metadata": {},
   "source": [
    "## Term"
   ]
  },
  {
   "cell_type": "code",
   "execution_count": null,
   "id": "adf60f22",
   "metadata": {},
   "outputs": [],
   "source": [
    "bycategory('term')\n",
    "byloanstatuspercent('term')\n",
    "plt.show()"
   ]
  },
  {
   "cell_type": "markdown",
   "id": "e5662b97",
   "metadata": {},
   "source": [
    "**Observations:**\n",
    "\n",
    "* 36 months term loans are more common than 60 months\n",
    "* 60 months term loans are more likely to default"
   ]
  },
  {
   "cell_type": "markdown",
   "id": "528c12a5",
   "metadata": {},
   "source": [
    "## Grade"
   ]
  },
  {
   "cell_type": "code",
   "execution_count": null,
   "id": "ece49b06",
   "metadata": {},
   "outputs": [],
   "source": [
    "bycategory('grade')\n",
    "byloanstatuspercent('grade')\n",
    "plt.show()"
   ]
  },
  {
   "cell_type": "markdown",
   "id": "6d4c8bb5",
   "metadata": {},
   "source": [
    "**Observations:**\n",
    "* more than 50% of loans are of high grade, A or B\n",
    "* Grade and chances of default are inversely proportaional. We can say Lending Club is quite good at grading it's loans"
   ]
  },
  {
   "cell_type": "markdown",
   "id": "503c888d",
   "metadata": {},
   "source": [
    "## Home Ownership"
   ]
  },
  {
   "cell_type": "code",
   "execution_count": null,
   "id": "aa026393",
   "metadata": {},
   "outputs": [],
   "source": [
    "bycategory('home_ownership')\n",
    "byloanstatuspercent('home_ownership')\n",
    "plt.show()"
   ]
  },
  {
   "cell_type": "markdown",
   "id": "308a075b",
   "metadata": {},
   "source": [
    "**Observations:**\n",
    "* Most of the loans are by people on rent or mortgage\n",
    "* There is no significant impact of home ownership on default"
   ]
  },
  {
   "cell_type": "markdown",
   "id": "d368b855",
   "metadata": {},
   "source": [
    "## Verification"
   ]
  },
  {
   "cell_type": "code",
   "execution_count": null,
   "id": "dd622387",
   "metadata": {},
   "outputs": [],
   "source": [
    "bycategory('verification_status')\n",
    "byloanstatuspercent('verification_status')\n",
    "plt.show()"
   ]
  },
  {
   "cell_type": "markdown",
   "id": "5484c1ae",
   "metadata": {},
   "source": [
    "**Observations:**\n",
    "* Almost 50% of the loans are not verified\n",
    "* The chances of default for verified loans are more than not verified loans which is quite counter-intuitive"
   ]
  },
  {
   "cell_type": "markdown",
   "id": "9ba8b3f7",
   "metadata": {},
   "source": [
    "## pub_rec"
   ]
  },
  {
   "cell_type": "code",
   "execution_count": null,
   "id": "50b65243",
   "metadata": {},
   "outputs": [],
   "source": [
    "bycategory('pub_rec')\n",
    "byloanstatuspercent('pub_rec')\n",
    "plt.show() "
   ]
  },
  {
   "cell_type": "markdown",
   "id": "c4a91e25",
   "metadata": {},
   "source": [
    "**Observations:**\n",
    "* Chances of default increases significantly when borrower has prior derogatory public record"
   ]
  },
  {
   "cell_type": "markdown",
   "id": "af9d9536",
   "metadata": {},
   "source": [
    "## Employee Length"
   ]
  },
  {
   "cell_type": "code",
   "execution_count": null,
   "id": "99a12d87",
   "metadata": {},
   "outputs": [],
   "source": [
    "bycategory('emp_length')\n",
    "\n",
    "byloanstatuspercent('emp_length')"
   ]
  },
  {
   "cell_type": "markdown",
   "id": "f1e508bf",
   "metadata": {},
   "source": [
    "**Observations:**\n",
    "* There is no significant impact of employee length on loan default"
   ]
  },
  {
   "cell_type": "markdown",
   "id": "834b2e7f",
   "metadata": {},
   "source": [
    "## Purpose"
   ]
  },
  {
   "cell_type": "code",
   "execution_count": null,
   "id": "b87b10ee",
   "metadata": {},
   "outputs": [],
   "source": [
    "bycategory('purpose')\n",
    "plt.show()\n",
    "byloanstatuspercent('purpose')\n",
    "plt.xticks(rotation=90)\n",
    "plt.show()"
   ]
  },
  {
   "cell_type": "markdown",
   "id": "e6888122",
   "metadata": {},
   "source": [
    "**Observations:**\n",
    "* Debt consolidation comprises of almost 49% of the loans, followed by credit card\n",
    "* 27.1% of loans to small businesses are defaulted, making them the most risky ones"
   ]
  },
  {
   "cell_type": "markdown",
   "id": "9ae9f4df",
   "metadata": {},
   "source": [
    "## inq_last_6mths"
   ]
  },
  {
   "cell_type": "code",
   "execution_count": null,
   "id": "3c587d1a",
   "metadata": {},
   "outputs": [],
   "source": [
    "bycategory('inq_last_6mths')\n",
    "\n",
    "byloanstatuspercent('inq_last_6mths')\n",
    "plt.show()"
   ]
  },
  {
   "cell_type": "markdown",
   "id": "9d6a50be",
   "metadata": {},
   "source": [
    "**Observations:**\n",
    "* Highest number of loans never had any inquiry and are less likely to default\n",
    "* Loans with more than 2 inquiries has higher rate of default"
   ]
  },
  {
   "cell_type": "markdown",
   "id": "a36cf047",
   "metadata": {},
   "source": [
    "## delinq_2yrs"
   ]
  },
  {
   "cell_type": "code",
   "execution_count": null,
   "id": "596e6646",
   "metadata": {},
   "outputs": [],
   "source": [
    "bycategory('delinq_2yrs')\n",
    "\n",
    "byloanstatuspercent('delinq_2yrs')\n",
    "plt.show()"
   ]
  },
  {
   "cell_type": "markdown",
   "id": "9df75bb7",
   "metadata": {},
   "source": [
    "**Observations:**\n",
    "* Loans with more than 1 incidences of delinquency has higher rate of default"
   ]
  },
  {
   "cell_type": "markdown",
   "id": "73b398b5",
   "metadata": {},
   "source": [
    "# Numerical Variables"
   ]
  },
  {
   "cell_type": "code",
   "execution_count": null,
   "id": "b20bcd23",
   "metadata": {},
   "outputs": [],
   "source": [
    "final_data.select_dtypes(['int64','float64']).columns"
   ]
  },
  {
   "cell_type": "markdown",
   "id": "a9b3f86c",
   "metadata": {},
   "source": [
    "## Loan Amount"
   ]
  },
  {
   "cell_type": "code",
   "execution_count": null,
   "id": "648fa252",
   "metadata": {},
   "outputs": [],
   "source": [
    "def plotnum(x):\n",
    "    plt.figure(figsize=(15,5))\n",
    "    plt.subplot(1, 2, 1)\n",
    "    ax = sns.distplot(final_data[x])\n",
    "    plt.subplot(1, 2, 2)\n",
    "    sns.boxplot(x=final_data[x], y=final_data['loan_status'], data=final_data)\n",
    "    plt.show()"
   ]
  },
  {
   "cell_type": "code",
   "execution_count": null,
   "id": "013ec231",
   "metadata": {},
   "outputs": [],
   "source": [
    "plotnum('loan_amnt')"
   ]
  },
  {
   "cell_type": "code",
   "execution_count": null,
   "id": "5414a601",
   "metadata": {},
   "outputs": [],
   "source": [
    "final_data.groupby('loan_status')['loan_amnt'].describe()"
   ]
  },
  {
   "cell_type": "markdown",
   "id": "46eca249",
   "metadata": {},
   "source": [
    "**Observations:**\n",
    "* The loan amount is right-skewed, where the median is less than the mean\n",
    "* Defaulted loans are slightly on the higher side of the average loan amount"
   ]
  },
  {
   "cell_type": "markdown",
   "id": "a7fdb517",
   "metadata": {},
   "source": [
    "## Interest Rate"
   ]
  },
  {
   "cell_type": "code",
   "execution_count": null,
   "id": "cd3355ac",
   "metadata": {},
   "outputs": [],
   "source": [
    "plotnum('int_rate')\n",
    "final_data.groupby('loan_status')['int_rate'].describe()"
   ]
  },
  {
   "cell_type": "markdown",
   "id": "e9a8af51",
   "metadata": {},
   "source": [
    "**Observations:**\n",
    "* Interest rates for defaulted loans are higher than fully paid ones. One inference can be that they are more likely to be the riskier loans"
   ]
  },
  {
   "cell_type": "markdown",
   "id": "08b82372",
   "metadata": {},
   "source": [
    "## Installment"
   ]
  },
  {
   "cell_type": "code",
   "execution_count": null,
   "id": "499d9853",
   "metadata": {},
   "outputs": [],
   "source": [
    "plotnum('installment')\n",
    "final_data.groupby('loan_status')['installment'].describe()"
   ]
  },
  {
   "cell_type": "markdown",
   "id": "668caa22",
   "metadata": {},
   "source": [
    "**Observations:**\n",
    "* Defaulted loans are likely to have slightly more installments then fully paid ones"
   ]
  },
  {
   "cell_type": "markdown",
   "id": "f0920ab7",
   "metadata": {},
   "source": [
    "## DTI"
   ]
  },
  {
   "cell_type": "code",
   "execution_count": null,
   "id": "b42d7934",
   "metadata": {},
   "outputs": [],
   "source": [
    "plotnum('dti')\n",
    "final_data.groupby('loan_status')['dti'].describe()"
   ]
  },
  {
   "cell_type": "code",
   "execution_count": null,
   "id": "8ef44e87",
   "metadata": {},
   "outputs": [],
   "source": [
    "plt.figure(figsize=(10,5))\n",
    "bins = [0, 5, 10, 15, 20,30]\n",
    "final_data['dti_groups'] = pd.cut(final_data['dti'], bins=bins,precision =0,labels=['0-5','5-10','10-15','15-20','20+'])"
   ]
  },
  {
   "cell_type": "code",
   "execution_count": null,
   "id": "1a8d47a5",
   "metadata": {},
   "outputs": [],
   "source": [
    "final_data[['dti','dti_groups']].head(25)"
   ]
  },
  {
   "cell_type": "code",
   "execution_count": null,
   "id": "ec33ec50",
   "metadata": {
    "scrolled": false
   },
   "outputs": [],
   "source": [
    "bycategory('dti_groups')\n",
    "byloanstatuspercent('dti_groups')\n",
    "plt.show()"
   ]
  },
  {
   "cell_type": "markdown",
   "id": "45b35c98",
   "metadata": {},
   "source": [
    "**Observations:**\n",
    "* Higher the dti higher the chances of loan being Charged Off"
   ]
  },
  {
   "cell_type": "markdown",
   "id": "96f49e14",
   "metadata": {},
   "source": [
    "## Open Account"
   ]
  },
  {
   "cell_type": "code",
   "execution_count": null,
   "id": "ee18c539",
   "metadata": {},
   "outputs": [],
   "source": [
    "plotnum('open_acc')\n",
    "final_data.groupby('loan_status')['open_acc'].describe()"
   ]
  },
  {
   "cell_type": "markdown",
   "id": "c8190cb5",
   "metadata": {},
   "source": [
    "**Observations:**\n",
    "* No significant impact of open account on loan default"
   ]
  },
  {
   "cell_type": "markdown",
   "id": "b259871c",
   "metadata": {},
   "source": [
    "## Revolving Balance"
   ]
  },
  {
   "cell_type": "code",
   "execution_count": null,
   "id": "2cf15e5e",
   "metadata": {},
   "outputs": [],
   "source": [
    "plotnum('revol_bal')\n",
    "final_data.groupby('loan_status')['revol_bal'].describe()"
   ]
  },
  {
   "cell_type": "markdown",
   "id": "1e955e8e",
   "metadata": {},
   "source": [
    "**Observations:**\n",
    "* No significant impact of revolving balance on loan default"
   ]
  },
  {
   "cell_type": "markdown",
   "id": "35effa7d",
   "metadata": {},
   "source": [
    "## Revolving Utilization"
   ]
  },
  {
   "cell_type": "code",
   "execution_count": null,
   "id": "7901b746",
   "metadata": {},
   "outputs": [],
   "source": [
    "plotnum('revol_util')\n",
    "final_data.groupby('loan_status')['revol_util'].describe()"
   ]
  },
  {
   "cell_type": "markdown",
   "id": "cd1d35aa",
   "metadata": {},
   "source": [
    "## Total Account"
   ]
  },
  {
   "cell_type": "code",
   "execution_count": null,
   "id": "82bdae2b",
   "metadata": {},
   "outputs": [],
   "source": [
    "plotnum('total_acc')\n",
    "final_data.groupby('loan_status')['total_acc'].describe()"
   ]
  },
  {
   "cell_type": "markdown",
   "id": "78690e9e",
   "metadata": {},
   "source": [
    "## Total Payment"
   ]
  },
  {
   "cell_type": "code",
   "execution_count": null,
   "id": "45ee9433",
   "metadata": {},
   "outputs": [],
   "source": [
    "plotnum('total_pymnt')\n",
    "final_data.groupby('loan_status')['total_pymnt'].describe()"
   ]
  },
  {
   "cell_type": "markdown",
   "id": "8bb0661a",
   "metadata": {},
   "source": [
    "**Observations:**\n",
    "* the variable will not be available at the time of funding, hence, can be dropped"
   ]
  },
  {
   "cell_type": "markdown",
   "id": "4621a8ea",
   "metadata": {},
   "source": [
    "## Total Payment Invested"
   ]
  },
  {
   "cell_type": "code",
   "execution_count": null,
   "id": "823c8c89",
   "metadata": {},
   "outputs": [],
   "source": [
    "plotnum('total_pymnt_inv')\n",
    "final_data.groupby('loan_status')['total_pymnt_inv'].describe()"
   ]
  },
  {
   "cell_type": "markdown",
   "id": "4b6c29f1",
   "metadata": {},
   "source": [
    "**Observations:**\n",
    "* the variable will not be available at the time of funding, hence, can be dropped"
   ]
  },
  {
   "cell_type": "markdown",
   "id": "5a702b91",
   "metadata": {},
   "source": [
    "## total_rec_int"
   ]
  },
  {
   "cell_type": "code",
   "execution_count": null,
   "id": "eb886dbc",
   "metadata": {},
   "outputs": [],
   "source": [
    "plotnum('total_rec_int')\n",
    "final_data.groupby('loan_status')['total_rec_int'].describe()"
   ]
  },
  {
   "cell_type": "markdown",
   "id": "f1b8189c",
   "metadata": {},
   "source": [
    "**Observations:**\n",
    "* the variable will not be available at the time of funding, hence, can be dropped"
   ]
  },
  {
   "cell_type": "markdown",
   "id": "b24c9172",
   "metadata": {},
   "source": [
    "## Annual Income"
   ]
  },
  {
   "cell_type": "code",
   "execution_count": null,
   "id": "007a7f67",
   "metadata": {},
   "outputs": [],
   "source": [
    "plt.figure(figsize=(10,5))\n",
    "bins = [0, 25000, 50000, 75000, 100000,150000]\n",
    "final_data['annual_inc_groups'] = pd.cut(final_data['annual_inc'], bins=bins,precision =0,labels=['0-25000','25000-50000','50000-75000','75000-100000','100000+'])"
   ]
  },
  {
   "cell_type": "code",
   "execution_count": null,
   "id": "18c97adc",
   "metadata": {},
   "outputs": [],
   "source": [
    "final_data[['annual_inc','annual_inc_groups']].head(25)"
   ]
  },
  {
   "cell_type": "code",
   "execution_count": null,
   "id": "c80f2065",
   "metadata": {
    "scrolled": false
   },
   "outputs": [],
   "source": [
    "bycategory('annual_inc_groups')\n",
    "byloanstatuspercent('annual_inc_groups')\n",
    "plt.show()"
   ]
  },
  {
   "cell_type": "markdown",
   "id": "ca9cd3fd",
   "metadata": {},
   "source": [
    "**Observations:**\n",
    "* Borrowers with income less than 25K are more likely to default\n",
    "* Loan default decreases with higher annual income"
   ]
  },
  {
   "cell_type": "markdown",
   "id": "0843be5a",
   "metadata": {},
   "source": [
    "## Bivariant Analysis"
   ]
  },
  {
   "cell_type": "code",
   "execution_count": null,
   "id": "54dbaaa9",
   "metadata": {},
   "outputs": [],
   "source": [
    "plt.figure(figsize=(4, 4))\n",
    "plt.title(\"Loan Status Vs Loan Amount\")\n",
    "sns.boxplot(x=final_data[\"loan_status\"],y=final_data[\"loan_amnt\"])\n",
    "plt.show()"
   ]
  },
  {
   "cell_type": "markdown",
   "id": "8bfef6b0",
   "metadata": {},
   "source": [
    "**Observations:**\n",
    "* Chances of getting loan amount charged off is more than fully paid."
   ]
  },
  {
   "cell_type": "code",
   "execution_count": null,
   "id": "d1f693ed",
   "metadata": {},
   "outputs": [],
   "source": [
    "plt.figure(figsize=(4, 4))\n",
    "plt.title(\"Funded Amount Vs Loan Amount\")    \n",
    "sns.scatterplot(x=final_data['loan_amnt'],y=final_data['funded_amnt'])\n",
    "plt.show()"
   ]
  },
  {
   "cell_type": "markdown",
   "id": "e017c665",
   "metadata": {},
   "source": [
    "**Observations:**\n",
    "* Funded amount by the company is always less than or equal to loan amount applied by borrower"
   ]
  },
  {
   "cell_type": "code",
   "execution_count": null,
   "id": "677a1dee",
   "metadata": {},
   "outputs": [],
   "source": [
    "plt.figure(figsize=(4, 4))\n",
    "plt.title(\"Funded Amount Vs Installment\")    \n",
    "sns.scatterplot(x=final_data['installment'],y=final_data['funded_amnt'])\n",
    "plt.show()"
   ]
  },
  {
   "cell_type": "markdown",
   "id": "bbd1a1ae",
   "metadata": {},
   "source": [
    "**Observations:**\n",
    "* Funded amount by the company is highly correlated with monthly installment paid by the borrower. \n",
    "* By this we can conclude there is a high correlation between loan amount, funded amount and installments\n"
   ]
  },
  {
   "cell_type": "code",
   "execution_count": null,
   "id": "b27fee55",
   "metadata": {},
   "outputs": [],
   "source": [
    "plt.figure(figsize=(10,5))\n",
    "final_data['loan_amnt_groups'] = pd.cut(final_data['loan_amnt'], bins=6,precision =0,labels=['0-5000','5000-10000','10000-15000','15000-20000','20000-25000','25000-30000'])\n",
    "sns.barplot(data =final_data,x='loan_amnt_groups', y='int_rate', hue ='loan_status')\n",
    "plt.show()"
   ]
  },
  {
   "cell_type": "markdown",
   "id": "57048c7d",
   "metadata": {},
   "source": [
    "**Observations:**\n",
    "* There is a more probability of defaulting when applicants who have taken a loan in the range 30k - 35k and are charged interest rate of 15-17.5 %"
   ]
  },
  {
   "cell_type": "code",
   "execution_count": null,
   "id": "92f6738f",
   "metadata": {},
   "outputs": [],
   "source": [
    "plt.figure(figsize=(15,10))\n",
    "plt.subplot(221)\n",
    "sns.barplot(data =final_data,y='loan_amnt', x='emp_length', hue ='loan_status')"
   ]
  },
  {
   "cell_type": "markdown",
   "id": "002761a3",
   "metadata": {},
   "source": [
    "**Observations:**\n",
    "* Employees with tenure as 10 years usually takes loans of higher amount and the risk is also low as compared to other tenure"
   ]
  },
  {
   "cell_type": "code",
   "execution_count": null,
   "id": "836f581a",
   "metadata": {},
   "outputs": [],
   "source": [
    "plt.figure(figsize=(15,10))\n",
    "plt.subplot(221)\n",
    "sns.barplot(data =final_data,y='loan_amnt', x='home_ownership', hue ='loan_status')"
   ]
  },
  {
   "cell_type": "markdown",
   "id": "ee2343a1",
   "metadata": {},
   "source": [
    "**Observations:**\n",
    "* Loans for Individuals living on rent usually have a higher chance of getting defaulted as compared to others. Applicants whose home ownership is 'MORTGAGE are having more probability for getting loan charged off"
   ]
  },
  {
   "cell_type": "markdown",
   "id": "89671e68",
   "metadata": {},
   "source": [
    "## Multivariant Analysis"
   ]
  },
  {
   "cell_type": "markdown",
   "id": "b99e63a9",
   "metadata": {},
   "source": [
    "#### Buisness Driven Column \n",
    "#####  Convert loan_status to 0 for \"Fully Paid\" and 1 for \"Charged Off\""
   ]
  },
  {
   "cell_type": "code",
   "execution_count": null,
   "id": "3c29b37c",
   "metadata": {},
   "outputs": [],
   "source": [
    "final_data['loan_status_numeric'] = final_data['loan_status'].apply(lambda x: 1 if x == 'Charged Off' else 0)"
   ]
  },
  {
   "cell_type": "code",
   "execution_count": null,
   "id": "5520c6bf",
   "metadata": {},
   "outputs": [],
   "source": [
    "final_data_numeric = final_data.select_dtypes(include=['int64', 'float64'])\n",
    "corr_matrix = final_data_numeric.corr()\n",
    "plt.figure(figsize=(12, 12))\n",
    "heatmap = sns.heatmap(corr_matrix, annot=True, cmap='BuGn', fmt=\".2f\")\n",
    "heatmap.set_title('Correlation Heatmap', fontdict={'fontsize':12})\n",
    "plt.show()"
   ]
  },
  {
   "cell_type": "markdown",
   "id": "554c3165",
   "metadata": {},
   "source": [
    "**Observations:**\n",
    "* Looks like higher int_rate (0.21) can lead to high defaulters\n",
    "* Higher recoveries (0.20) can lead to high defaulters\n",
    "* Higher collection_recovery_fee (0.20) can lead to high defaulters\n",
    "* Positive correlation can also be found on funded_amnt, funded_amnt_inv, installment, dti, delinq_2yrs, inq_last_6mnths, pub_rec, revol_bal, revol_util, total_rec_int, total_rec_late_fee, pub_rec_bankruptcies\n",
    "* Very high correlation between loan amount applied by the borrower and funded amount committed by the investor. We can say that if loan application of the borrower gets passed by company, then he gets almost full amount of the loan applied.\n",
    "* Certainly loan amount, monthly installment and principal received are highly correlated. Higher the loan amount, higher is monthly installment and and higher is principal received  vice versa.\n",
    "* Number of open credit lines is also highly correlated with total number of credit lines in the borrower's credit file.  \n",
    "* Revol_util, int_rate - Moderately high correlation\n",
    "* Higher the amount of credit the borrower is using, higher is the risk of loan repayment. Thats why higher is the interest rate, and vice-versa.\n"
   ]
  },
  {
   "cell_type": "code",
   "execution_count": null,
   "id": "ae74b93c",
   "metadata": {},
   "outputs": [],
   "source": []
  }
 ],
 "metadata": {
  "kernelspec": {
   "display_name": "Python 3 (ipykernel)",
   "language": "python",
   "name": "python3"
  },
  "language_info": {
   "codemirror_mode": {
    "name": "ipython",
    "version": 3
   },
   "file_extension": ".py",
   "mimetype": "text/x-python",
   "name": "python",
   "nbconvert_exporter": "python",
   "pygments_lexer": "ipython3",
   "version": "3.11.5"
  }
 },
 "nbformat": 4,
 "nbformat_minor": 5
}
